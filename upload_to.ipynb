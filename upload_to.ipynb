{
 "cells": [
  {
   "cell_type": "code",
   "execution_count": null,
   "metadata": {
    "execution": {
     "iopub.execute_input": "2025-03-11T08:17:06.427038Z",
     "iopub.status.busy": "2025-03-11T08:17:06.426395Z",
     "iopub.status.idle": "2025-03-11T08:18:07.584022Z",
     "shell.execute_reply": "2025-03-11T08:18:07.583058Z",
     "shell.execute_reply.started": "2025-03-11T08:17:06.427011Z"
    },
    "id": "a77ef6fa",
    "outputId": "0f9ae4c3-00db-426e-e3ff-878d57e4a9c0",
    "papermill": {
     "duration": 26.627044,
     "end_time": "2025-03-01T17:48:58.914949",
     "exception": false,
     "start_time": "2025-03-01T17:48:32.287905",
     "status": "completed"
    },
    "scrolled": true,
    "tags": [],
    "trusted": true
   },
   "outputs": [],
   "source": [
    "# This Python 3 environment comes with many helpful analytics libraries installed\n",
    "# It is defined by the kaggle/python Docker image: https://github.com/kaggle/docker-python\n",
    "# For example, here's several helpful packages to load\n",
    "\n",
    "import numpy as np # linear algebra\n",
    "import pandas as pd # data processing, CSV file I/O (e.g. pd.read_csv)\n",
    "\n",
    "# Input data files are available in the read-only \"../input/\" directory\n",
    "# For example, running this (by clicking run or pressing Shift+Enter) will list all files under the input directory\n",
    "#%run -i '../input/utilexternal/misc.py'\n",
    "import os\n",
    "for dirname, _, filenames in os.walk('/kaggle/input'):\n",
    "    for filename in filenames:\n",
    "        pass\n",
    "        #print(os.path.join(dirname, filename))\n",
    "\n",
    "# You can write up to 20GB to the current directory (/kaggle/working/) that gets preserved as output when you create a version using \"Save & Run All\" \n",
    "# You can also write temporary files to /kaggle/temp/, but they won't be saved outside of the current session\n",
    "#!pip install import-ipynb"
   ]
  },
  {
   "cell_type": "code",
   "execution_count": null,
   "metadata": {
    "execution": {
     "iopub.execute_input": "2025-03-11T08:18:07.586017Z",
     "iopub.status.busy": "2025-03-11T08:18:07.585672Z",
     "iopub.status.idle": "2025-03-11T08:18:07.589917Z",
     "shell.execute_reply": "2025-03-11T08:18:07.589176Z",
     "shell.execute_reply.started": "2025-03-11T08:18:07.585994Z"
    },
    "papermill": {
     "duration": 0.013092,
     "end_time": "2025-03-01T17:48:58.935731",
     "exception": false,
     "start_time": "2025-03-01T17:48:58.922639",
     "status": "completed"
    },
    "scrolled": true,
    "tags": [],
    "trusted": true
   },
   "outputs": [],
   "source": [
    "import sys\n",
    "sys.path.insert(1, '/kaggle/input/cifarnetworks')"
   ]
  },
  {
   "cell_type": "code",
   "execution_count": null,
   "metadata": {
    "execution": {
     "iopub.execute_input": "2025-03-11T08:18:07.590975Z",
     "iopub.status.busy": "2025-03-11T08:18:07.590722Z",
     "iopub.status.idle": "2025-03-11T08:18:09.788166Z",
     "shell.execute_reply": "2025-03-11T08:18:09.787333Z",
     "shell.execute_reply.started": "2025-03-11T08:18:07.590955Z"
    },
    "id": "78a72d09",
    "papermill": {
     "duration": 4.405285,
     "end_time": "2025-03-01T17:49:03.348058",
     "exception": false,
     "start_time": "2025-03-01T17:48:58.942773",
     "status": "completed"
    },
    "scrolled": true,
    "tags": [],
    "trusted": true
   },
   "outputs": [],
   "source": [
    "import cv2\n",
    "import math\n",
    "import torch\n",
    "import heapq\n",
    "import random\n",
    "import argparse\n",
    "import numpy as np\n",
    "import torchvision\n",
    "import pandas as pd\n",
    "import torch.nn as nn\n",
    "import warnings\n",
    "from PIL import Image\n",
    "from skimage import io\n",
    "from pathlib import Path\n",
    "from preactresnetb import *\n",
    "#from resnet50 import *\n",
    "#from wideresnet import *\n",
    "#from function_1 import *\n",
    "#from function_4_2 import *\n",
    "#from utils.conf import *\n",
    "import torch.optim as optim\n",
    "from torch.autograd import Variable\n",
    "import torch.backends.cudnn as cudnn\n",
    "import matplotlib.pyplot as plt\n",
    "import torchvision.datasets as datasets\n",
    "import torchvision.transforms as transforms\n",
    "from torch.optim.lr_scheduler import MultiStepLR\n",
    "from torch.utils.data import (Dataset, DataLoader,random_split,)\n",
    "import os, glob\n",
    "from torchvision.io import read_image, ImageReadMode\n",
    "from collections import OrderedDict\n",
    "import torch.nn.functional as F\n",
    "from skimage.util import random_noise"
   ]
  },
  {
   "cell_type": "code",
   "execution_count": null,
   "metadata": {
    "execution": {
     "iopub.execute_input": "2025-03-11T08:18:09.791078Z",
     "iopub.status.busy": "2025-03-11T08:18:09.790419Z",
     "iopub.status.idle": "2025-03-11T08:18:09.852041Z",
     "shell.execute_reply": "2025-03-11T08:18:09.851188Z",
     "shell.execute_reply.started": "2025-03-11T08:18:09.791051Z"
    },
    "id": "54e53725",
    "outputId": "ab4d6d3c-330a-4e93-81a5-af7db4be52bf",
    "papermill": {
     "duration": 0.091196,
     "end_time": "2025-03-01T17:49:03.446695",
     "exception": false,
     "start_time": "2025-03-01T17:49:03.355499",
     "status": "completed"
    },
    "scrolled": true,
    "tags": [],
    "trusted": true
   },
   "outputs": [],
   "source": [
    "warnings.filterwarnings(\"ignore\")\n",
    "device = torch.device('cuda' if torch.cuda.is_available() else 'cpu')\n",
    "print(f\"device in torch.cuda.is_available() {device}\")\n",
    "best_acc = 0  # best test accuracy\n",
    "start_epoch = 0  # start from epoch 0 or last checkpoint epoch"
   ]
  },
  {
   "cell_type": "code",
   "execution_count": null,
   "metadata": {
    "execution": {
     "iopub.execute_input": "2025-03-11T08:18:09.853445Z",
     "iopub.status.busy": "2025-03-11T08:18:09.853189Z",
     "iopub.status.idle": "2025-03-11T08:18:09.868140Z",
     "shell.execute_reply": "2025-03-11T08:18:09.867519Z",
     "shell.execute_reply.started": "2025-03-11T08:18:09.853422Z"
    },
    "id": "31fb6816",
    "papermill": {
     "duration": 0.016331,
     "end_time": "2025-03-01T17:49:03.470311",
     "exception": false,
     "start_time": "2025-03-01T17:49:03.453980",
     "status": "completed"
    },
    "scrolled": true,
    "tags": [],
    "trusted": true
   },
   "outputs": [],
   "source": [
    "model_options = ['preactresnet18', 'preactresnet34', 'preactresnet50', 'preactresnet101', 'wideresnet']\n",
    "dataset_options = ['cifar10', 'cifar100', 'tinyimagenet', 'imagenet']\n",
    "parser = argparse.ArgumentParser(description='ACResizeMix')\n",
    "parser.add_argument('--dataset', '-d', default='cifar10', choices=dataset_options)\n",
    "parser.add_argument('--model', '-a', default='preactresnet18', choices=model_options)\n",
    "parser.add_argument('--batch_size', type=int, default=64, help='input batch size for training (default:128)')\n",
    "parser.add_argument('--epochs', type=int, default=300, help='number of epochs to train (default: 200)')\n",
    "parser.add_argument('--lr', type=float, default=0.05, help='learning rate')\n",
    "parser.add_argument('--data_augmentation', action='store_true', default=True, help='augment data by flipping and cropping')\n",
    "parser.add_argument('--no-cuda', action='store_true', default=False, help='enables CUDA training')\n",
    "parser.add_argument('--acresize_prob', default=0.5, type=float, help='ACResizeMix probability')\n",
    "args, _ = parser.parse_known_args()"
   ]
  },
  {
   "cell_type": "code",
   "execution_count": null,
   "metadata": {
    "execution": {
     "iopub.execute_input": "2025-03-11T08:18:09.869247Z",
     "iopub.status.busy": "2025-03-11T08:18:09.869021Z",
     "iopub.status.idle": "2025-03-11T08:18:09.887275Z",
     "shell.execute_reply": "2025-03-11T08:18:09.886540Z",
     "shell.execute_reply.started": "2025-03-11T08:18:09.869227Z"
    },
    "id": "617d55fd",
    "outputId": "9288d63e-932c-4dd7-b88f-40ded7892d44",
    "papermill": {
     "duration": 0.018494,
     "end_time": "2025-03-01T17:49:03.495803",
     "exception": false,
     "start_time": "2025-03-01T17:49:03.477309",
     "status": "completed"
    },
    "scrolled": true,
    "tags": [],
    "trusted": true
   },
   "outputs": [],
   "source": [
    "\n",
    "cudnn.benchmark = True  # Should make training should go faster for large models\n",
    "\n",
    "seed = 1\n",
    "torch.manual_seed(seed)\n",
    "np.random.seed(seed)\n",
    "random.seed(seed)\n",
    "torch.cuda.manual_seed_all(seed)\n",
    "torch.backends.cudnn.deterministic = True\n",
    "test_id = args.dataset + '_' + args.model\n",
    "print(args)\n",
    "if args.dataset == 'cifar10':\n",
    "    mean = [0.4914, 0.4822, 0.4465]\n",
    "    std = [0.2470, 0.2435, 0.2616]\n",
    "elif args.dataset == 'cifar100':\n",
    "    mean = [0.5071, 0.4865, 0.4409]\n",
    "    std = [0.2673, 0.2564, 0.2762]\n",
    "#transform_train, transform_test = augmentation(mean, std)"
   ]
  },
  {
   "cell_type": "code",
   "execution_count": null,
   "metadata": {
    "execution": {
     "iopub.execute_input": "2025-03-11T08:18:09.888379Z",
     "iopub.status.busy": "2025-03-11T08:18:09.888154Z",
     "iopub.status.idle": "2025-03-11T08:18:09.894044Z",
     "shell.execute_reply": "2025-03-11T08:18:09.893438Z",
     "shell.execute_reply.started": "2025-03-11T08:18:09.888359Z"
    },
    "papermill": {
     "duration": 0.013698,
     "end_time": "2025-03-01T17:49:03.516485",
     "exception": false,
     "start_time": "2025-03-01T17:49:03.502787",
     "status": "completed"
    },
    "scrolled": true,
    "tags": [],
    "trusted": true
   },
   "outputs": [],
   "source": [
    "def augmentation(mean, std):\n",
    "    transform_train = transforms.Compose([\n",
    "        #transforms.ToPILImage(),\n",
    "        transforms.RandomCrop(32, padding=4),\n",
    "        #transforms.RandomRotation(10),\n",
    "        transforms.RandomHorizontalFlip(),\n",
    "        transforms.ColorJitter(brightness=0.2, contrast=0.2, saturation=0.2),\n",
    "        #transforms.RandomAdjustSharpness(sharpness_factor=2, p=0.5),\n",
    "        #transforms.RandomPerspective(distortion_scale=0.3, p=0.5),\n",
    "        #transforms.RandomPosterize(bits=2, p=0.5),\n",
    "        transforms.ToTensor(),\n",
    "        transforms.Normalize(mean, std),\n",
    "        ])\n",
    "    transform_test = transforms.Compose([\n",
    "        transforms.ToTensor(),\n",
    "        transforms.Normalize(mean, std),\n",
    "        ])\n",
    "    return transform_train, transform_test"
   ]
  },
  {
   "cell_type": "code",
   "execution_count": null,
   "metadata": {
    "execution": {
     "iopub.execute_input": "2025-03-11T08:18:09.895103Z",
     "iopub.status.busy": "2025-03-11T08:18:09.894908Z",
     "iopub.status.idle": "2025-03-11T08:18:09.910814Z",
     "shell.execute_reply": "2025-03-11T08:18:09.910190Z",
     "shell.execute_reply.started": "2025-03-11T08:18:09.895086Z"
    },
    "papermill": {
     "duration": 0.012858,
     "end_time": "2025-03-01T17:49:03.536348",
     "exception": false,
     "start_time": "2025-03-01T17:49:03.523490",
     "status": "completed"
    },
    "scrolled": true,
    "tags": [],
    "trusted": true
   },
   "outputs": [],
   "source": [
    "transform_train, transform_test = augmentation(mean, std)"
   ]
  },
  {
   "cell_type": "code",
   "execution_count": null,
   "metadata": {
    "execution": {
     "iopub.execute_input": "2025-03-11T08:18:09.911842Z",
     "iopub.status.busy": "2025-03-11T08:18:09.911652Z",
     "iopub.status.idle": "2025-03-11T08:18:31.001365Z",
     "shell.execute_reply": "2025-03-11T08:18:31.000700Z",
     "shell.execute_reply.started": "2025-03-11T08:18:09.911825Z"
    },
    "id": "774efade",
    "outputId": "b244edd1-1a47-4772-b063-4167fcfff292",
    "papermill": {
     "duration": 4.993779,
     "end_time": "2025-03-01T17:49:08.537899",
     "exception": false,
     "start_time": "2025-03-01T17:49:03.544120",
     "status": "completed"
    },
    "scrolled": true,
    "tags": [],
    "trusted": true
   },
   "outputs": [],
   "source": [
    "\n",
    "if args.dataset == 'cifar10':\n",
    "    num_classes = 10\n",
    "    train_dataset = datasets.CIFAR10(root='data/',train=True,transform=transform_train,download=True)\n",
    "    test_dataset = datasets.CIFAR10(root='data/', train=False,transform=transform_test,download=True)\n",
    "elif args.dataset == 'cifar100':\n",
    "    num_classes = 100\n",
    "    train_dataset = datasets.CIFAR100(root='data/', train=True, transform=transform_train, download=True)\n",
    "    test_dataset = datasets.CIFAR100(root='data/',  train=False, transform=transform_test, download=True)\n",
    "elif args.dataset == 'tinyimagenet':\n",
    "    num_classes = 200\n",
    "    train_dataset = datasets.CIFAR100(root='data/', train=True, transform=transform_train, download=True)\n",
    "    test_dataset = datasets.CIFAR100(root='data/',  train=False, transform=transform_test, download=True)\n",
    "elif args.dataset == 'imagenet':\n",
    "    num_classes = 1000\n",
    "    train_dataset = datasets.CIFAR100(root='data/', train=True, transform=transform_train, download=True)\n",
    "    test_dataset = datasets.CIFAR100(root='data/',  train=False, transform=transform_test, download=True)\n",
    "\n",
    "# Data Loader (Input Pipeline)\n",
    "train_loader = torch.utils.data.DataLoader(dataset=train_dataset,  batch_size=args.batch_size, shuffle=True, pin_memory=True, num_workers=2)\n",
    "test_loader = torch.utils.data.DataLoader(dataset=test_dataset, batch_size=args.batch_size, shuffle=False,  pin_memory=True,  num_workers=2)"
   ]
  },
  {
   "cell_type": "code",
   "execution_count": null,
   "metadata": {
    "execution": {
     "iopub.execute_input": "2025-03-11T08:18:31.006145Z",
     "iopub.status.busy": "2025-03-11T08:18:31.005835Z",
     "iopub.status.idle": "2025-03-11T08:18:31.011024Z",
     "shell.execute_reply": "2025-03-11T08:18:31.010221Z",
     "shell.execute_reply.started": "2025-03-11T08:18:31.006116Z"
    },
    "id": "ddc5fc97",
    "papermill": {
     "duration": 0.015966,
     "end_time": "2025-03-01T17:49:08.562517",
     "exception": false,
     "start_time": "2025-03-01T17:49:08.546551",
     "status": "completed"
    },
    "scrolled": true,
    "tags": [],
    "trusted": true
   },
   "outputs": [],
   "source": [
    "def show_batch(dl):\n",
    "    import matplotlib.pyplot as plt\n",
    "    from torchvision.utils import make_grid\n",
    "    for images, labels in dl:\n",
    "        fig, ax = plt.subplots(figsize=(10,10))\n",
    "        #images = denormalize(images, *data_statistics)\n",
    "        ax.imshow(make_grid(images, 10).permute(1,2,0))\n",
    "        break\n",
    "#show_batch(train_loader)"
   ]
  },
  {
   "cell_type": "code",
   "execution_count": null,
   "metadata": {
    "execution": {
     "iopub.execute_input": "2025-03-11T08:18:31.012508Z",
     "iopub.status.busy": "2025-03-11T08:18:31.012187Z",
     "iopub.status.idle": "2025-03-11T08:18:31.419970Z",
     "shell.execute_reply": "2025-03-11T08:18:31.419054Z",
     "shell.execute_reply.started": "2025-03-11T08:18:31.012479Z"
    },
    "id": "4c8f98f9",
    "papermill": {
     "duration": 0.383926,
     "end_time": "2025-03-01T17:49:08.954591",
     "exception": false,
     "start_time": "2025-03-01T17:49:08.570665",
     "status": "completed"
    },
    "scrolled": true,
    "tags": [],
    "trusted": true
   },
   "outputs": [],
   "source": [
    "if args.model == 'preactresnet18':\n",
    "    cnn = PreActResNet(PreActBlock, [2, 2, 2, 2], num_classes=num_classes)\n",
    "elif args.model == 'preactresnet34':\n",
    "    cnn = PreActResNet(PreActBlock, [3,4,6,3], num_classes=num_classes)\n",
    "elif args.model == 'preactresnet50':\n",
    "    cnn = PreActResNet(PreActBottleneck, [3,4,6,3], num_classes=num_classes)\n",
    "elif args.model == 'preactresnet101':\n",
    "    cnn = PreActResNet(PreActBottleneck, [3,4,23,3], num_classes=num_classes)\n",
    "elif args.model == 'wideresnet':\n",
    "    cnn = WideResNet(depth=28, num_classes=num_classes, widen_factor=10, dropRate=0.0)\n",
    "\n",
    "cnn = cnn.to(device)\n",
    "#cnn = nn.DataParallel(cnn).to(device)"
   ]
  },
  {
   "cell_type": "code",
   "execution_count": null,
   "metadata": {
    "execution": {
     "iopub.execute_input": "2025-03-11T08:18:31.421788Z",
     "iopub.status.busy": "2025-03-11T08:18:31.421176Z",
     "iopub.status.idle": "2025-03-11T08:18:31.425495Z",
     "shell.execute_reply": "2025-03-11T08:18:31.424663Z",
     "shell.execute_reply.started": "2025-03-11T08:18:31.421756Z"
    },
    "papermill": {
     "duration": 0.015683,
     "end_time": "2025-03-01T17:49:08.979212",
     "exception": false,
     "start_time": "2025-03-01T17:49:08.963529",
     "status": "completed"
    },
    "scrolled": true,
    "tags": [],
    "trusted": true
   },
   "outputs": [],
   "source": [
    "#print(f\"cnn {cnn}\")"
   ]
  },
  {
   "cell_type": "code",
   "execution_count": null,
   "metadata": {
    "execution": {
     "iopub.execute_input": "2025-03-11T08:18:31.426838Z",
     "iopub.status.busy": "2025-03-11T08:18:31.426609Z",
     "iopub.status.idle": "2025-03-11T08:18:31.437776Z",
     "shell.execute_reply": "2025-03-11T08:18:31.437028Z",
     "shell.execute_reply.started": "2025-03-11T08:18:31.426817Z"
    },
    "papermill": {
     "duration": 0.016164,
     "end_time": "2025-03-01T17:49:09.003672",
     "exception": false,
     "start_time": "2025-03-01T17:49:08.987508",
     "status": "completed"
    },
    "scrolled": true,
    "tags": [],
    "trusted": true
   },
   "outputs": [],
   "source": [
    "class model_bn(nn.Module):\n",
    "    def __init__(self, feature_size=512,classes_num=10):\n",
    "\n",
    "        super(model_bn, self).__init__()\n",
    "\n",
    "        self.features = nn.Sequential(*list(cnn.children())[:-2])\n",
    "        #print(f\"self.features {self.features}\")\n",
    "\n",
    "        #self.max = nn.MaxPool2d(kernel_size=4, stride=4)\n",
    "        self.max = nn.AvgPool2d(kernel_size=4, stride=4)\n",
    "\n",
    "        self.num_ftrs = 512*1*1\n",
    "        self.classifier = nn.Sequential(OrderedDict([\n",
    "              #('bn1', nn.BatchNorm1d(feature_size)),\n",
    "              #('rel', nn.ReLU(inplace=True)),\n",
    "              ('fc1', nn.Linear(feature_size, classes_num)),\n",
    "              ]))\n",
    "\n",
    "    def forward(self, x):\n",
    "\n",
    "        feats = self.features(x)\n",
    "        x = self.max(feats)\n",
    "        x = x.view(x.size(0), -1)\n",
    "        x = self.classifier(x)\n",
    "        return x, feats"
   ]
  },
  {
   "cell_type": "code",
   "execution_count": null,
   "metadata": {
    "execution": {
     "iopub.execute_input": "2025-03-11T08:18:31.438845Z",
     "iopub.status.busy": "2025-03-11T08:18:31.438624Z",
     "iopub.status.idle": "2025-03-11T08:18:31.448455Z",
     "shell.execute_reply": "2025-03-11T08:18:31.447814Z",
     "shell.execute_reply.started": "2025-03-11T08:18:31.438826Z"
    },
    "papermill": {
     "duration": 0.015723,
     "end_time": "2025-03-01T17:49:09.027579",
     "exception": false,
     "start_time": "2025-03-01T17:49:09.011856",
     "status": "completed"
    },
    "scrolled": true,
    "tags": [],
    "trusted": true
   },
   "outputs": [],
   "source": [
    "cnn = model_bn(512, 10)\n",
    "cnn = cnn.to(device)\n",
    "cudnn.benchmark = True"
   ]
  },
  {
   "cell_type": "code",
   "execution_count": null,
   "metadata": {
    "execution": {
     "iopub.execute_input": "2025-03-11T08:18:31.449491Z",
     "iopub.status.busy": "2025-03-11T08:18:31.449241Z",
     "iopub.status.idle": "2025-03-11T08:18:31.459116Z",
     "shell.execute_reply": "2025-03-11T08:18:31.458526Z",
     "shell.execute_reply.started": "2025-03-11T08:18:31.449469Z"
    },
    "id": "b8eb941a",
    "papermill": {
     "duration": 0.015639,
     "end_time": "2025-03-01T17:49:09.051690",
     "exception": false,
     "start_time": "2025-03-01T17:49:09.036051",
     "status": "completed"
    },
    "scrolled": true,
    "tags": [],
    "trusted": true
   },
   "outputs": [],
   "source": [
    "criterion = nn.CrossEntropyLoss(reduction='mean').to(device)\n",
    "cnn_optimizer = torch.optim.SGD(cnn.parameters(), lr=args.lr, momentum=0.9, nesterov=True, weight_decay=5e-4)\n",
    "scheduler = MultiStepLR(cnn_optimizer, milestones=[60, 120, 180, 240], gamma=0.2, verbose=False)"
   ]
  },
  {
   "cell_type": "code",
   "execution_count": null,
   "metadata": {
    "execution": {
     "iopub.execute_input": "2025-03-11T08:18:31.525249Z",
     "iopub.status.busy": "2025-03-11T08:18:31.524963Z",
     "iopub.status.idle": "2025-03-11T08:18:31.538569Z",
     "shell.execute_reply": "2025-03-11T08:18:31.537928Z",
     "shell.execute_reply.started": "2025-03-11T08:18:31.525222Z"
    },
    "papermill": {
     "duration": 0.015518,
     "end_time": "2025-03-01T17:49:09.197532",
     "exception": false,
     "start_time": "2025-03-01T17:49:09.182014",
     "status": "completed"
    },
    "scrolled": true,
    "tags": [],
    "trusted": true
   },
   "outputs": [],
   "source": [
    "class Loss:\n",
    "    def Error(pred, target):\n",
    "        sample = len(target)\n",
    "        pred = torch.exp(pred)\n",
    "        pred = pred/torch.sum(pred, axis=1, keepdims=True)\n",
    "        if len(target.shape)==1:\n",
    "            confidence = pred[range(sample), target]\n",
    "        elif len(target.shape)==2:\n",
    "            confidence = sum(pred*target, axis=1)\n",
    "        eror = -torch.log10(confidence)\n",
    "        total = torch.mean(eror)\n",
    "        return total\n",
    "    \n",
    "def cutmix_criterion(criterion, pred, y_a, y_b, lam, lum):\n",
    "    return lam * criterion(pred, y_a) + lum* criterion(pred, y_b)"
   ]
  },
  {
   "cell_type": "code",
   "execution_count": null,
   "metadata": {
    "execution": {
     "iopub.execute_input": "2025-03-11T08:18:31.609260Z",
     "iopub.status.busy": "2025-03-11T08:18:31.609052Z",
     "iopub.status.idle": "2025-03-11T08:18:31.622219Z",
     "shell.execute_reply": "2025-03-11T08:18:31.621430Z",
     "shell.execute_reply.started": "2025-03-11T08:18:31.609238Z"
    },
    "id": "568bd8c2",
    "papermill": {
     "duration": 0.015444,
     "end_time": "2025-03-01T17:49:09.371522",
     "exception": false,
     "start_time": "2025-03-01T17:49:09.356078",
     "status": "completed"
    },
    "scrolled": true,
    "tags": [],
    "trusted": true
   },
   "outputs": [],
   "source": [
    "load_model = False\n",
    "if load_model:\n",
    "    # Load checkpoint.\n",
    "    print('==> Resuming from checkpoint..')\n",
    "    assert os.path.isdir('/kaggle/input/checkpoint/'), 'Error: no checkpoint directory found!'\n",
    "    checkpoint = torch.load('/kaggle/input/checkpoint/ckpt.pth')\n",
    "    cnn.load_state_dict(checkpoint['cnn'])\n",
    "    cnn_optimizer.load_state_dict(checkpoint['cnn_optimizer'])\n",
    "    scheduler.load_state_dict(checkpoint['scheduler'])\n",
    "    best_acc = checkpoint['acc']\n",
    "    print(f\"best_acc {best_acc}\")\n",
    "    start_epoch = checkpoint['epoch']\n",
    "    print(f\"start_epoch {start_epoch}\")\n",
    "    start_epoch = start_epoch + 1\n",
    "    print(f\"start_epoch {start_epoch}\")"
   ]
  },
  {
   "cell_type": "code",
   "execution_count": null,
   "metadata": {
    "execution": {
     "iopub.execute_input": "2025-03-11T08:18:31.623262Z",
     "iopub.status.busy": "2025-03-11T08:18:31.623038Z",
     "iopub.status.idle": "2025-03-11T08:18:31.632097Z",
     "shell.execute_reply": "2025-03-11T08:18:31.631412Z",
     "shell.execute_reply.started": "2025-03-11T08:18:31.623240Z"
    },
    "papermill": {
     "duration": 0.014828,
     "end_time": "2025-03-01T17:49:09.394723",
     "exception": false,
     "start_time": "2025-03-01T17:49:09.379895",
     "status": "completed"
    },
    "scrolled": true,
    "tags": [],
    "trusted": true
   },
   "outputs": [],
   "source": [
    "def show_batch_1(images_c, labels_c):\n",
    "    import matplotlib.pyplot as plt\n",
    "    j=0\n",
    "    from torchvision.utils import make_grid\n",
    "    for i, (image, labels) in enumerate(zip(images_c, labels_c)):\n",
    "        j=j+1\n",
    "        #print(f\"images.shape show_batch {images.shape}\")\n",
    "        #print(f\"i {i}\")  \n",
    "        \n",
    "        fig, ax = plt.subplots(figsize=(2, 2))\n",
    "        ax.imshow(make_grid(image.cpu(), 10).permute(1,2,0))\n",
    "        if j ==128:\n",
    "            break"
   ]
  },
  {
   "cell_type": "code",
   "execution_count": null,
   "metadata": {},
   "outputs": [],
   "source": [
    "def cutmix(data, targets, alpha=1.0):\n",
    "    \"\"\"Applique CutMix sur un batch de données\"\"\"\n",
    "    if alpha > 0:\n",
    "        lam = np.random.beta(alpha, alpha)\n",
    "    else:\n",
    "        lam = 1\n",
    "\n",
    "    batch_size = data.size(0)\n",
    "    index = torch.randperm(batch_size).cuda()\n",
    "\n",
    "    # Sélection des coordonnées du rectangle à couper\n",
    "    H, W = data.shape[2], data.shape[3]\n",
    "    r_x = np.random.randint(W)\n",
    "    r_y = np.random.randint(H)\n",
    "    r_w = int(W * np.sqrt(1 - lam))\n",
    "    r_h = int(H * np.sqrt(1 - lam))\n",
    "\n",
    "    x1 = np.clip(r_x - r_w // 2, 0, W)\n",
    "    x2 = np.clip(r_x + r_w // 2, 0, W)\n",
    "    y1 = np.clip(r_y - r_h // 2, 0, H)\n",
    "    y2 = np.clip(r_y + r_h // 2, 0, H)\n",
    "\n",
    "    # Appliquer CutMix\n",
    "    data[:, :, y1:y2, x1:x2] = data[index, :, y1:y2, x1:x2]\n",
    "    \n",
    "    # Ajustement du label\n",
    "    lam, lum = 1 - ((x2 - x1) * (y2 - y1) / (W * H)), (x2 - x1) * (y2 - y1) / (W * H)\n",
    "    targets_a, targets_b = targets, targets[index]\n",
    "    return data, targets_a, targets_b, lam, lum"
   ]
  },
  {
   "cell_type": "code",
   "execution_count": null,
   "metadata": {
    "execution": {
     "iopub.execute_input": "2025-03-11T08:18:31.670650Z",
     "iopub.status.busy": "2025-03-11T08:18:31.670458Z",
     "iopub.status.idle": "2025-03-11T08:18:31.686333Z",
     "shell.execute_reply": "2025-03-11T08:18:31.685600Z",
     "shell.execute_reply.started": "2025-03-11T08:18:31.670633Z"
    },
    "id": "062225d1",
    "papermill": {
     "duration": 0.020933,
     "end_time": "2025-03-01T17:49:09.491402",
     "exception": false,
     "start_time": "2025-03-01T17:49:09.470469",
     "status": "completed"
    },
    "scrolled": true,
    "tags": [],
    "trusted": true
   },
   "outputs": [],
   "source": [
    "# Train the model\n",
    "total_step = len(train_loader)\n",
    "def train(epoch):\n",
    "    cnn.train()\n",
    "    losses = []\n",
    "    for i, (images, labels) in enumerate(train_loader):\n",
    "        images, labels = images.to(device), labels.to(device)\n",
    "        sal = np.random.beta(1.0, 1.0)\n",
    "        if sal <=0.8 and epoch >=10:  \n",
    "            wfmaps,_ = get_spm(cnn, images, labels)\n",
    "            if epoch >=300:\n",
    "                images, labels = maxgrad_show(cnn, images, labels, wfmaps, 32)\n",
    "                break\n",
    "\n",
    "            images, labels_a, labels_b, lam, lum = cutmix(images, labels)\n",
    "            #break\n",
    "            #show_batch_1(images, labels_a)\n",
    "            #break\n",
    "            cnn.zero_grad()\n",
    "            outputs, _ = cnn(images)\n",
    "            #loss = Loss.Error(outputs, labels_a)*lam + Loss.Error(outputs, labels_b)*lum\n",
    "            loss = cutmix_criterion(criterion, outputs, labels_a, labels_b, lam, lum)\n",
    "            #loss = criterion(outputs, labels_a)*lam + criterion(outputs, labels_b)*lum\n",
    "            loss = loss.mean()\n",
    "            #loss = loss/2\n",
    "            losses.append(loss.item())\n",
    "        else:\n",
    "            # Forward pass\n",
    "            #show_batch_1(images, labels_a)\n",
    "            #break\n",
    "            cnn.zero_grad()\n",
    "            outputs, _ = cnn(images)\n",
    "            loss = criterion(outputs, labels)\n",
    "            #loss = Loss.Error(outputs, labels)\n",
    "            losses.append(loss.item())\n",
    "            # Backward and optimize\n",
    "        loss.backward()\n",
    "        cnn_optimizer.step()\n",
    "    losses = sum(losses)/len(losses)\n",
    "    print(f\"TrainEpoch Loss LR  {epoch+1} {losses} {cnn_optimizer.param_groups[0]['lr']}\")"
   ]
  },
  {
   "cell_type": "code",
   "execution_count": null,
   "metadata": {
    "execution": {
     "iopub.execute_input": "2025-03-11T08:18:31.687420Z",
     "iopub.status.busy": "2025-03-11T08:18:31.687192Z",
     "iopub.status.idle": "2025-03-11T08:18:31.701231Z",
     "shell.execute_reply": "2025-03-11T08:18:31.700489Z",
     "shell.execute_reply.started": "2025-03-11T08:18:31.687401Z"
    },
    "id": "6ea1cbc7",
    "papermill": {
     "duration": 0.019091,
     "end_time": "2025-03-01T17:49:09.520142",
     "exception": false,
     "start_time": "2025-03-01T17:49:09.501051",
     "status": "completed"
    },
    "scrolled": true,
    "tags": [],
    "trusted": true
   },
   "outputs": [],
   "source": [
    "# Test the model\n",
    "def test(epoch):\n",
    "    global best_acc\n",
    "    cnn.eval()\n",
    "    correct = 0\n",
    "    total = 0\n",
    "    losses = []\n",
    "    #with torch.no_grad():\n",
    "    for images, labels in test_loader:\n",
    "        images = images.to(device)\n",
    "        labels = labels.to(device)\n",
    "        outputs, _ = cnn(images)\n",
    "        loss = criterion(outputs, labels)\n",
    "        losses.append(loss.item())\n",
    "        _, predicted = torch.max(outputs.data, 1)\n",
    "        total += labels.size(0)\n",
    "        correct += (predicted == labels).sum().item()\n",
    "    losses = sum(losses)/len(losses)\n",
    "    print(f\"Epoch Loss LR Accuracy {epoch+1} {losses} {cnn_optimizer.param_groups[0]['lr']} {100.*(correct / total)}\")\n",
    "\n",
    "    # Save checkpoint.\n",
    "    acc = 100.*correct/total\n",
    "    if epoch >= 2:\n",
    "        #if acc > best_acc:\n",
    "        #print('Saving..')\n",
    "        state = {\n",
    "            'cnn': cnn.state_dict(),\n",
    "            'cnn_optimizer' : cnn_optimizer.state_dict(),\n",
    "            'scheduler' : scheduler.state_dict(),\n",
    "            'acc': acc,\n",
    "            'lr': cnn_optimizer.param_groups[0]['lr'],\n",
    "            'epoch': epoch,\n",
    "        }\n",
    "        if not os.path.isdir('checkpoint'):\n",
    "            os.mkdir('checkpoint')\n",
    "        torch.save(state, './checkpoint/ckpt.pth')\n",
    "        best_acc = acc\n",
    "    scheduler.step(epoch)"
   ]
  },
  {
   "cell_type": "code",
   "execution_count": null,
   "metadata": {
    "execution": {
     "execution_failed": "2025-03-11T08:32:10.222Z",
     "iopub.execute_input": "2025-03-11T08:18:31.702415Z",
     "iopub.status.busy": "2025-03-11T08:18:31.702182Z"
    },
    "id": "d8f33ed7",
    "outputId": "33f192b0-d5a3-42da-9c8b-660f844079ae",
    "papermill": {
     "duration": 35212.727242,
     "end_time": "2025-03-02T03:36:02.257021",
     "exception": false,
     "start_time": "2025-03-01T17:49:09.529779",
     "status": "completed"
    },
    "tags": [],
    "trusted": true
   },
   "outputs": [],
   "source": [
    "for epoch in range(start_epoch, start_epoch+302):\n",
    "\n",
    "    train(epoch)\n",
    "    if epoch % 40 ==0 and epoch <= 250:\n",
    "        test(epoch)\n",
    "    elif epoch > 250:\n",
    "        test(epoch)"
   ]
  }
 ],
 "metadata": {
  "accelerator": "GPU",
  "colab": {
   "gpuType": "T4",
   "provenance": []
  },
  "kaggle": {
   "accelerator": "nvidiaTeslaT4",
   "dataSources": [
    {
     "datasetId": 31559,
     "sourceId": 46697,
     "sourceType": "datasetVersion"
    },
    {
     "datasetId": 1305990,
     "sourceId": 2175492,
     "sourceType": "datasetVersion"
    },
    {
     "datasetId": 6724336,
     "sourceId": 10829353,
     "sourceType": "datasetVersion"
    },
    {
     "datasetId": 6831124,
     "sourceId": 10977631,
     "sourceType": "datasetVersion"
    }
   ],
   "dockerImageVersionId": 30626,
   "isGpuEnabled": true,
   "isInternetEnabled": true,
   "language": "python",
   "sourceType": "notebook"
  },
  "kernelspec": {
   "display_name": "Python 3",
   "language": "python",
   "name": "python3"
  },
  "language_info": {
   "codemirror_mode": {
    "name": "ipython",
    "version": 3
   },
   "file_extension": ".py",
   "mimetype": "text/x-python",
   "name": "python",
   "nbconvert_exporter": "python",
   "pygments_lexer": "ipython3",
   "version": "3.10.12"
  },
  "papermill": {
   "default_parameters": {},
   "duration": 35254.351594,
   "end_time": "2025-03-02T03:36:03.740493",
   "environment_variables": {},
   "exception": null,
   "input_path": "__notebook__.ipynb",
   "output_path": "__notebook__.ipynb",
   "parameters": {},
   "start_time": "2025-03-01T17:48:29.388899",
   "version": "2.3.3"
  },
  "widgets": {
   "application/vnd.jupyter.widget-state+json": {
    "state": {
     "34aa7c54cab0486092e72d30dc3666b3": {
      "model_module": "@jupyter-widgets/controls",
      "model_module_version": "1.5.0",
      "model_name": "HBoxModel",
      "state": {
       "_dom_classes": [],
       "_model_module": "@jupyter-widgets/controls",
       "_model_module_version": "1.5.0",
       "_model_name": "HBoxModel",
       "_view_count": null,
       "_view_module": "@jupyter-widgets/controls",
       "_view_module_version": "1.5.0",
       "_view_name": "HBoxView",
       "box_style": "",
       "children": [
        "IPY_MODEL_b8ab6d68f948478a8120d36fb6a2ec6b",
        "IPY_MODEL_9e07022eef1844108a5df8d78d34cbfb",
        "IPY_MODEL_9c92c682d85b407cbfab9873a71d091c"
       ],
       "layout": "IPY_MODEL_c2c3df105cc848b599a4d2b05d8edbdb"
      }
     },
     "3cb7a3ac0d78470bb25ab0c89fb7212d": {
      "model_module": "@jupyter-widgets/base",
      "model_module_version": "1.2.0",
      "model_name": "LayoutModel",
      "state": {
       "_model_module": "@jupyter-widgets/base",
       "_model_module_version": "1.2.0",
       "_model_name": "LayoutModel",
       "_view_count": null,
       "_view_module": "@jupyter-widgets/base",
       "_view_module_version": "1.2.0",
       "_view_name": "LayoutView",
       "align_content": null,
       "align_items": null,
       "align_self": null,
       "border": null,
       "bottom": null,
       "display": null,
       "flex": null,
       "flex_flow": null,
       "grid_area": null,
       "grid_auto_columns": null,
       "grid_auto_flow": null,
       "grid_auto_rows": null,
       "grid_column": null,
       "grid_gap": null,
       "grid_row": null,
       "grid_template_areas": null,
       "grid_template_columns": null,
       "grid_template_rows": null,
       "height": null,
       "justify_content": null,
       "justify_items": null,
       "left": null,
       "margin": null,
       "max_height": null,
       "max_width": null,
       "min_height": null,
       "min_width": null,
       "object_fit": null,
       "object_position": null,
       "order": null,
       "overflow": null,
       "overflow_x": null,
       "overflow_y": null,
       "padding": null,
       "right": null,
       "top": null,
       "visibility": null,
       "width": null
      }
     },
     "64e460670556401589eaaa5f5eb5eb6b": {
      "model_module": "@jupyter-widgets/base",
      "model_module_version": "1.2.0",
      "model_name": "LayoutModel",
      "state": {
       "_model_module": "@jupyter-widgets/base",
       "_model_module_version": "1.2.0",
       "_model_name": "LayoutModel",
       "_view_count": null,
       "_view_module": "@jupyter-widgets/base",
       "_view_module_version": "1.2.0",
       "_view_name": "LayoutView",
       "align_content": null,
       "align_items": null,
       "align_self": null,
       "border": null,
       "bottom": null,
       "display": null,
       "flex": null,
       "flex_flow": null,
       "grid_area": null,
       "grid_auto_columns": null,
       "grid_auto_flow": null,
       "grid_auto_rows": null,
       "grid_column": null,
       "grid_gap": null,
       "grid_row": null,
       "grid_template_areas": null,
       "grid_template_columns": null,
       "grid_template_rows": null,
       "height": null,
       "justify_content": null,
       "justify_items": null,
       "left": null,
       "margin": null,
       "max_height": null,
       "max_width": null,
       "min_height": null,
       "min_width": null,
       "object_fit": null,
       "object_position": null,
       "order": null,
       "overflow": null,
       "overflow_x": null,
       "overflow_y": null,
       "padding": null,
       "right": null,
       "top": null,
       "visibility": null,
       "width": null
      }
     },
     "6cf3f089ee214e86b74b5a80a170253b": {
      "model_module": "@jupyter-widgets/controls",
      "model_module_version": "1.5.0",
      "model_name": "DescriptionStyleModel",
      "state": {
       "_model_module": "@jupyter-widgets/controls",
       "_model_module_version": "1.5.0",
       "_model_name": "DescriptionStyleModel",
       "_view_count": null,
       "_view_module": "@jupyter-widgets/base",
       "_view_module_version": "1.2.0",
       "_view_name": "StyleView",
       "description_width": ""
      }
     },
     "6efa3afb337a4cd094f8c3c3eb455853": {
      "model_module": "@jupyter-widgets/base",
      "model_module_version": "1.2.0",
      "model_name": "LayoutModel",
      "state": {
       "_model_module": "@jupyter-widgets/base",
       "_model_module_version": "1.2.0",
       "_model_name": "LayoutModel",
       "_view_count": null,
       "_view_module": "@jupyter-widgets/base",
       "_view_module_version": "1.2.0",
       "_view_name": "LayoutView",
       "align_content": null,
       "align_items": null,
       "align_self": null,
       "border": null,
       "bottom": null,
       "display": null,
       "flex": null,
       "flex_flow": null,
       "grid_area": null,
       "grid_auto_columns": null,
       "grid_auto_flow": null,
       "grid_auto_rows": null,
       "grid_column": null,
       "grid_gap": null,
       "grid_row": null,
       "grid_template_areas": null,
       "grid_template_columns": null,
       "grid_template_rows": null,
       "height": null,
       "justify_content": null,
       "justify_items": null,
       "left": null,
       "margin": null,
       "max_height": null,
       "max_width": null,
       "min_height": null,
       "min_width": null,
       "object_fit": null,
       "object_position": null,
       "order": null,
       "overflow": null,
       "overflow_x": null,
       "overflow_y": null,
       "padding": null,
       "right": null,
       "top": null,
       "visibility": null,
       "width": null
      }
     },
     "9c92c682d85b407cbfab9873a71d091c": {
      "model_module": "@jupyter-widgets/controls",
      "model_module_version": "1.5.0",
      "model_name": "HTMLModel",
      "state": {
       "_dom_classes": [],
       "_model_module": "@jupyter-widgets/controls",
       "_model_module_version": "1.5.0",
       "_model_name": "HTMLModel",
       "_view_count": null,
       "_view_module": "@jupyter-widgets/controls",
       "_view_module_version": "1.5.0",
       "_view_name": "HTMLView",
       "description": "",
       "description_tooltip": null,
       "layout": "IPY_MODEL_3cb7a3ac0d78470bb25ab0c89fb7212d",
       "placeholder": "​",
       "style": "IPY_MODEL_6cf3f089ee214e86b74b5a80a170253b",
       "value": " 169001984/? [00:02&lt;00:00, 84695707.90it/s]"
      }
     },
     "9e07022eef1844108a5df8d78d34cbfb": {
      "model_module": "@jupyter-widgets/controls",
      "model_module_version": "1.5.0",
      "model_name": "FloatProgressModel",
      "state": {
       "_dom_classes": [],
       "_model_module": "@jupyter-widgets/controls",
       "_model_module_version": "1.5.0",
       "_model_name": "FloatProgressModel",
       "_view_count": null,
       "_view_module": "@jupyter-widgets/controls",
       "_view_module_version": "1.5.0",
       "_view_name": "ProgressView",
       "bar_style": "success",
       "description": "",
       "description_tooltip": null,
       "layout": "IPY_MODEL_6efa3afb337a4cd094f8c3c3eb455853",
       "max": 169001437,
       "min": 0,
       "orientation": "horizontal",
       "style": "IPY_MODEL_ba4c6e18de7c42f7b6b951e4434e3f05",
       "value": 169001437
      }
     },
     "b8ab6d68f948478a8120d36fb6a2ec6b": {
      "model_module": "@jupyter-widgets/controls",
      "model_module_version": "1.5.0",
      "model_name": "HTMLModel",
      "state": {
       "_dom_classes": [],
       "_model_module": "@jupyter-widgets/controls",
       "_model_module_version": "1.5.0",
       "_model_name": "HTMLModel",
       "_view_count": null,
       "_view_module": "@jupyter-widgets/controls",
       "_view_module_version": "1.5.0",
       "_view_name": "HTMLView",
       "description": "",
       "description_tooltip": null,
       "layout": "IPY_MODEL_64e460670556401589eaaa5f5eb5eb6b",
       "placeholder": "​",
       "style": "IPY_MODEL_d75b378d03ee4cdc8c57d34dcd0a550f",
       "value": ""
      }
     },
     "ba4c6e18de7c42f7b6b951e4434e3f05": {
      "model_module": "@jupyter-widgets/controls",
      "model_module_version": "1.5.0",
      "model_name": "ProgressStyleModel",
      "state": {
       "_model_module": "@jupyter-widgets/controls",
       "_model_module_version": "1.5.0",
       "_model_name": "ProgressStyleModel",
       "_view_count": null,
       "_view_module": "@jupyter-widgets/base",
       "_view_module_version": "1.2.0",
       "_view_name": "StyleView",
       "bar_color": null,
       "description_width": ""
      }
     },
     "c2c3df105cc848b599a4d2b05d8edbdb": {
      "model_module": "@jupyter-widgets/base",
      "model_module_version": "1.2.0",
      "model_name": "LayoutModel",
      "state": {
       "_model_module": "@jupyter-widgets/base",
       "_model_module_version": "1.2.0",
       "_model_name": "LayoutModel",
       "_view_count": null,
       "_view_module": "@jupyter-widgets/base",
       "_view_module_version": "1.2.0",
       "_view_name": "LayoutView",
       "align_content": null,
       "align_items": null,
       "align_self": null,
       "border": null,
       "bottom": null,
       "display": null,
       "flex": null,
       "flex_flow": null,
       "grid_area": null,
       "grid_auto_columns": null,
       "grid_auto_flow": null,
       "grid_auto_rows": null,
       "grid_column": null,
       "grid_gap": null,
       "grid_row": null,
       "grid_template_areas": null,
       "grid_template_columns": null,
       "grid_template_rows": null,
       "height": null,
       "justify_content": null,
       "justify_items": null,
       "left": null,
       "margin": null,
       "max_height": null,
       "max_width": null,
       "min_height": null,
       "min_width": null,
       "object_fit": null,
       "object_position": null,
       "order": null,
       "overflow": null,
       "overflow_x": null,
       "overflow_y": null,
       "padding": null,
       "right": null,
       "top": null,
       "visibility": null,
       "width": null
      }
     },
     "d75b378d03ee4cdc8c57d34dcd0a550f": {
      "model_module": "@jupyter-widgets/controls",
      "model_module_version": "1.5.0",
      "model_name": "DescriptionStyleModel",
      "state": {
       "_model_module": "@jupyter-widgets/controls",
       "_model_module_version": "1.5.0",
       "_model_name": "DescriptionStyleModel",
       "_view_count": null,
       "_view_module": "@jupyter-widgets/base",
       "_view_module_version": "1.2.0",
       "_view_name": "StyleView",
       "description_width": ""
      }
     }
    },
    "version_major": 2,
    "version_minor": 0
   }
  }
 },
 "nbformat": 4,
 "nbformat_minor": 4
}
